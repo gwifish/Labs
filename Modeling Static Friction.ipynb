{
 "cells": [
  {
   "cell_type": "code",
   "execution_count": 2,
   "metadata": {
    "collapsed": true
   },
   "outputs": [],
   "source": [
    "%matplotlib inline"
   ]
  },
  {
   "cell_type": "markdown",
   "metadata": {},
   "source": [
    "# Modeling Static Friction"
   ]
  },
  {
   "cell_type": "markdown",
   "metadata": {
    "collapsed": true
   },
   "source": [
    "## Introduction\n",
    "In this lab, we are determining the  relationship between the weight of an object and the force that is being applied to it. "
   ]
  },
  {
   "cell_type": "markdown",
   "metadata": {},
   "source": [
    "## Procedure\n",
    "In this experiment, we will utilize a wooden box, where we will calculate its force. After calculating it, we will add metal weights inside the box. The weights were added in 100 gram intervals, until 300 grams. Afterwards, we will attach a spring scale to the metal hook of the box, where we pulled it to calculate the force. "
   ]
  },
  {
   "cell_type": "markdown",
   "metadata": {},
   "source": [
    "## Data and Analysis\n",
    "| Grams \t|Force\t |\n",
    "|-----\t|---\t |\n",
    "| 0\t    |    0.5 |\n",
    "| 100 \t|   0.65 |\n",
    "| 200 \t|  0.975 |\n",
    "| 300 \t|   1.35 |\n",
    "|400|1.8|\n",
    "|500|2.25|\n",
    "\n",
    "\n"
   ]
  },
  {
   "cell_type": "code",
   "execution_count": 3,
   "metadata": {
    "collapsed": false,
    "scrolled": true
   },
   "outputs": [
    {
     "name": "stdout",
     "output_type": "stream",
     "text": [
      "0.00359285714068 0.355952380951\n"
     ]
    },
    {
     "data": {
      "text/plain": [
       "(0, 3)"
      ]
     },
     "execution_count": 3,
     "metadata": {},
     "output_type": "execute_result"
    },
    {
     "data": {
      "image/png": "[encoded data removed]",
      "text/plain": [
       "<matplotlib.figure.Figure at 0x7e34b00>"
      ]
     },
     "metadata": {},
     "output_type": "display_data"
    }
   ],
   "source": [
    "import matplotlib.pyplot as plt\n",
    "import numpy as np\n",
    "from scipy.optimize import curve_fit\n",
    "\n",
    "#------------------------------\n",
    "#Write your plot/fit code below\n",
    "#------------------------------\n",
    "grams =[0,100,200,300,400,500]\n",
    "force=[0.5,0.65,0.975,1.35,1.8,2.25]\n",
    "xx =np.linspace(0,600,20)\n",
    "\n",
    "def lin_model (x, a, b):\n",
    "    return a*x + b\n",
    "\n",
    "a,b= curve_fit(lin_model,grams,force)[0]\n",
    "print (a,b) \n",
    "\n",
    "plt.ylabel ('Force(N)')\n",
    "plt.xlabel ('Grams')\n",
    "plt.plot (grams, force, 'o')\n",
    "plt.plot (xx,lin_model(xx,a,b))\n",
    "plt.title ('Modeling Static Friction')\n",
    "plt.ylim(0, 3)\n"
   ]
  },
  {
   "cell_type": "markdown",
   "metadata": {},
   "source": [
    "## Results\n",
    "Our data is shown to be a linear model, which means that the more weight added, the more force is required in order to move the box. This means that the mass of an object affects the friction. When more weight is added to the box, more friciton is applied to. Because of this, more force must  be applied to pull the box. However, the data is shown to not be accurate, since it varied everytime it was measured. The measurements were not exact, so we estimated the force by the most reoccuring measurement of force. "
   ]
  },
  {
   "cell_type": "markdown",
   "metadata": {},
   "source": [
    "## Conclusion"
   ]
  },
  {
   "cell_type": "markdown",
   "metadata": {},
   "source": []
  }
 ],
 "metadata": {
  "kernelspec": {
   "display_name": "Python 3",
   "language": "python",
   "name": "python3"
  },
  "language_info": {
   "codemirror_mode": {
    "name": "ipython",
    "version": 3
   },
   "file_extension": ".py",
   "mimetype": "text/x-python",
   "name": "python",
   "nbconvert_exporter": "python",
   "pygments_lexer": "ipython3",
   "version": "3.4.4"
  }
 },
 "nbformat": 4,
 "nbformat_minor": 0
}
