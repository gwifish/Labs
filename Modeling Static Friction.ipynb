{
 "cells": [
  {
   "cell_type": "code",
   "execution_count": 2,
   "metadata": {
    "collapsed": true
   },
   "outputs": [],
   "source": [
    "%matplotlib inline"
   ]
  },
  {
   "cell_type": "markdown",
   "metadata": {},
   "source": [
    "# Modeling Static Friction"
   ]
  },
  {
   "cell_type": "markdown",
   "metadata": {
    "collapsed": true
   },
   "source": [
    "## Introduction\n",
    "In this lab, we are comparing the static friction of the box on a flat surface and ramp. We are also trying to find the function of the static friction equation using $$f_n=mg\\cos\\theta$$"
   ]
  },
  {
   "cell_type": "markdown",
   "metadata": {},
   "source": [
    "## Procedure\n",
    "In this experiment, we will utilize a wooden box, where we will calculate its force. After calculating it, we will add metal weights inside the box. The weights were added in 100 gram intervals, until 500 grams. Afterwards, we will attach a spring scale to the metal hook of the box. Then we pulled it to calculate the force, which is also the static friction. \n",
    "\n",
    "In the second portion of the lab, we created a ramp using a white board and a box. We measured the angle and height of the ramp using a protractor and ruler, which measured out to be 23 degrees and 12 inches in height. Afterwards, we did the same procedure as the experiment with the flat surface to gather the force. To obtain the static friction, we used the equation $$f_s= f_{sp}-mg\\sin\\theta$$ for the force collected.\n"
   ]
  },
  {
   "cell_type": "markdown",
   "metadata": {},
   "source": [
    "## Data and Analysis "
   ]
  },
  {
   "cell_type": "markdown",
   "metadata": {},
   "source": [
    "| Grams \t|Static Friction (Flat) |Static Friction (23° Ramp)|\n",
    "|-----\t|------- |----------|-------|\n",
    "| 0\t    | 0.6|   1.0|\n",
    "| 100 \t|1.0|   1.267|\n",
    "| 200 \t| 1.25| 1.68|\n",
    "| 300 \t| 1.8|  2.05|\n",
    "|400|2.15|2.268|\n",
    "|500|2.6|3.0854|\n",
    "\n"
   ]
  },
  {
   "cell_type": "code",
   "execution_count": 6,
   "metadata": {
    "collapsed": false
   },
   "outputs": [
    {
     "name": "stdout",
     "output_type": "stream",
     "text": [
      "0.00399999999733 0.566666667481\n",
      "0.00394285714331 0.906019047379\n"
     ]
    },
    {
     "data": {
      "text/plain": [
       "(0, 4)"
      ]
     },
     "execution_count": 6,
     "metadata": {},
     "output_type": "execute_result"
    },
    {
     "data": {
      "image/png": "[encoded data removed]",
      "text/plain": [
       "<matplotlib.figure.Figure at 0x849fda0>"
      ]
     },
     "metadata": {},
     "output_type": "display_data"
    }
   ],
   "source": [
    "import matplotlib.pyplot as plt\n",
    "import numpy as np\n",
    "from scipy.optimize import curve_fit\n",
    "\n",
    "grams =[0,100,200,300,400,500]\n",
    "\n",
    "force=(0.6,1.0,1.25,1.8,2.15,2.6,) \n",
    "force_i=(1,1.267, 1.68, 2.05, 2.268, 3.0854)\n",
    "xx =np.linspace(0,600,20)\n",
    "\n",
    "def lin_model (x, a, b):\n",
    "    return a*x + b\n",
    "\n",
    "a,b= curve_fit(lin_model,grams,force)[0]\n",
    "c,d= curve_fit(lin_model,grams,force_i)[0]\n",
    "\n",
    "print (a,b)\n",
    "print (c,d)\n",
    "\n",
    "plt.ylabel ('Static Friction')\n",
    "plt.xlabel ('Grams')\n",
    "plt.plot (grams, force_i, '.',label=\"23° Ramp\")\n",
    "plt.plot (grams, force, '.',label=\"Flat Surface\")\n",
    "plt.legend(loc='upper left')\n",
    "plt.plot (xx,lin_model(xx,a,b))\n",
    "plt.plot (xx,lin_model(xx,c,d))\n",
    "plt.title ('Modeling Static Friction on a Flat Surface and Ramp')\n",
    "plt.ylim(0, 4)\n"
   ]
  },
  {
   "cell_type": "code",
   "execution_count": null,
   "metadata": {
    "collapsed": true
   },
   "outputs": [],
   "source": []
  },
  {
   "cell_type": "markdown",
   "metadata": {},
   "source": [
    "## Results and Observations\n",
    "$$y=ax+b$$\n",
    "$$Model of Static Friction on a Flat Surface: y= 0.00399x+0.5666$$\n",
    "$$Model of Static Friction on a Ramp: y=0.00394x+0.906$$\n",
    "\n",
    "Our data is shown to be a linear model for both graphs. When more weight is added, the more force is required in order to move the box. We were given the values of a and b are given, for a and b, as well. \n",
    "\n",
    "Our results also show that both graphs do not start at (0,0)."
   ]
  },
  {
   "cell_type": "markdown",
   "metadata": {},
   "source": [
    "## Conclusion"
   ]
  },
  {
   "cell_type": "markdown",
   "metadata": {},
   "source": [
    "We can conclude that the mass of an object affects the friction. However, the gravitational force restricts the object, not static friction. Having a slope requires more force to pull the object up, because the gravitational force tries to restrict the object from going upwards. As  "
   ]
  },
  {
   "cell_type": "code",
   "execution_count": null,
   "metadata": {
    "collapsed": true
   },
   "outputs": [],
   "source": []
  }
 ],
 "metadata": {
  "kernelspec": {
   "display_name": "Python 3",
   "language": "python",
   "name": "python3"
  },
  "language_info": {
   "codemirror_mode": {
    "name": "ipython",
    "version": 3
   },
   "file_extension": ".py",
   "mimetype": "text/x-python",
   "name": "python",
   "nbconvert_exporter": "python",
   "pygments_lexer": "ipython3",
   "version": "3.4.4"
  }
 },
 "nbformat": 4,
 "nbformat_minor": 0
}
