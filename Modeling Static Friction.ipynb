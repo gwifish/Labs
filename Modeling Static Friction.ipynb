{
 "cells": [
  {
   "cell_type": "code",
   "execution_count": 1,
   "metadata": {
    "collapsed": true
   },
   "outputs": [],
   "source": [
    "%matplotlib inline"
   ]
  },
  {
   "cell_type": "markdown",
   "metadata": {},
   "source": [
    "# Modeling Static Friction"
   ]
  },
  {
   "cell_type": "markdown",
   "metadata": {
    "collapsed": true
   },
   "source": [
    "## Introduction\n",
    "In this lab, we are determining the  relationship between the weight of an object and the force that is being applied to it. "
   ]
  },
  {
   "cell_type": "markdown",
   "metadata": {},
   "source": [
    "## Procedure\n",
    "In this experiment, we will utilize a wooden box, where we will calculate its force. After calculating it, we will add metal weights inside the box. The weights were added in 100 gram intervals, until 500 grams. Afterwards, we will attach a spring scale to the metal hook of the box, where we pulled it to calculate the force. \n",
    "\n",
    "In the second portion of the lab, we created a ramp using a white board and a box. We measured the angle and height of the ramp using a protractor and ruler, which measured out to be 23 degrees and 12 inches in height. Afterwards, we did the same procedure as the experiment with the flat surface to gather data."
   ]
  },
  {
   "cell_type": "markdown",
   "metadata": {},
   "source": [
    "## Data and Analysis\n",
    "| Grams \t|Force\t |\n",
    "|-----\t|---\t |\n",
    "| 0\t    |    0.6|\n",
    "| 100 \t|   1.0 |\n",
    "| 200 \t|  1.25 |\n",
    "| 300 \t|   1.8 |\n",
    "|400|2.15|\n",
    "|500|2.6|\n",
    "\n",
    "\n"
   ]
  },
  {
   "cell_type": "code",
   "execution_count": 7,
   "metadata": {
    "collapsed": false,
    "scrolled": true
   },
   "outputs": [
    {
     "name": "stdout",
     "output_type": "stream",
     "text": [
      "0.00399999999733 0.566666667481\n"
     ]
    },
    {
     "data": {
      "text/plain": [
       "(0, 3)"
      ]
     },
     "execution_count": 7,
     "metadata": {},
     "output_type": "execute_result"
    },
    {
     "data": {
      "image/png": "[encoded data removed]",
      "text/plain": [
       "<matplotlib.figure.Figure at 0x45e9400>"
      ]
     },
     "metadata": {},
     "output_type": "display_data"
    }
   ],
   "source": [
    "import matplotlib.pyplot as plt\n",
    "import numpy as np\n",
    "from scipy.optimize import curve_fit\n",
    "\n",
    "#------------------------------\n",
    "#Write your plot/fit code below\n",
    "#------------------------------\n",
    "grams =[0,100,200,300,400,500]\n",
    "force=[0.6,1.0,1.25,1.8,2.15,2.6]\n",
    "xx =np.linspace(0,600,20)\n",
    "\n",
    "def lin_model (x, a, b):\n",
    "    return a*x + b\n",
    "\n",
    "a,b= curve_fit(lin_model,grams,force)[0]\n",
    "print (a,b) \n",
    "\n",
    "plt.ylabel ('Force(N)')\n",
    "plt.xlabel ('Grams')\n",
    "plt.plot (grams, force, 'o')\n",
    "plt.plot (xx,lin_model(xx,a,b))\n",
    "plt.title ('Modeling Static Friction on a Flat Surface')\n",
    "plt.ylim(0, 3)\n"
   ]
  },
  {
   "cell_type": "markdown",
   "metadata": {},
   "source": [
    "| Grams \t|Force\t |\n",
    "|-----\t|------- |\n",
    "| 0\t    |    1.0|\n",
    "| 100 \t|   1.65|\n",
    "| 200 \t|  2.45|\n",
    "| 300 \t|   3.2 |\n",
    "|400|3.8\n",
    "|500|5|\n",
    "\n"
   ]
  },
  {
   "cell_type": "code",
   "execution_count": 6,
   "metadata": {
    "collapsed": false
   },
   "outputs": [
    {
     "name": "stdout",
     "output_type": "stream",
     "text": [
      "0.00777142857528 0.90714285626\n"
     ]
    },
    {
     "data": {
      "text/plain": [
       "(0, 6)"
      ]
     },
     "execution_count": 6,
     "metadata": {},
     "output_type": "execute_result"
    },
    {
     "data": {
      "image/png": "[encoded data removed]",
      "text/plain": [
       "<matplotlib.figure.Figure at 0x64cb898>"
      ]
     },
     "metadata": {},
     "output_type": "display_data"
    }
   ],
   "source": [
    "import matplotlib.pyplot as plt\n",
    "import numpy as np\n",
    "from scipy.optimize import curve_fit\n",
    "\n",
    "#------------------------------\n",
    "#Write your plot/fit code below\n",
    "#------------------------------\n",
    "grams =[0,100,200,300,400,500]\n",
    "force=[1.0,1.65,2.45,3.2,3.8,5]\n",
    "xx =np.linspace(0,600,20)\n",
    "\n",
    "def lin_model (x, a, b):\n",
    "    return a*x + b\n",
    "\n",
    "a,b= curve_fit(lin_model,grams,force)[0]\n",
    "print (a,b) \n",
    "\n",
    "plt.ylabel ('Force(N)')\n",
    "plt.xlabel ('Grams')\n",
    "plt.plot (grams, force, 'o')\n",
    "plt.plot (xx,lin_model(xx,a,b))\n",
    "plt.title ('Modeling Static Friction on a Ramp')\n",
    "plt.ylim(0, 6)\n"
   ]
  },
  {
   "cell_type": "markdown",
   "metadata": {},
   "source": [
    "| Grams \t|Force (Flat) |Force (Ramp)|\n",
    "|-----\t|------- |----------|\n",
    "| 0\t    | 0.6|   1.0|\n",
    "| 100 \t|1.0|   1.65|\n",
    "| 200 \t| 1.25| 2.45|\n",
    "| 300 \t| 1.8|  3.2 |\n",
    "|400|2.15|3.8|\n",
    "|500|2.6|5|\n",
    "\n"
   ]
  },
  {
   "cell_type": "code",
   "execution_count": 14,
   "metadata": {
    "collapsed": false
   },
   "outputs": [
    {
     "name": "stdout",
     "output_type": "stream",
     "text": [
      "0.00399999999733 0.566666667481\n"
     ]
    },
    {
     "data": {
      "text/plain": [
       "(0, 6)"
      ]
     },
     "execution_count": 14,
     "metadata": {},
     "output_type": "execute_result"
    },
    {
     "data": {
      "image/png": "[encoded data removed]",
      "text/plain": [
       "<matplotlib.figure.Figure at 0x7ee9668>"
      ]
     },
     "metadata": {},
     "output_type": "display_data"
    }
   ],
   "source": [
    "import matplotlib.pyplot as plt\n",
    "import numpy as np\n",
    "from scipy.optimize import curve_fit\n",
    "\n",
    "#------------------------------\n",
    "#Write your plot/fit code below\n",
    "#------------------------------\n",
    "grams =[0,100,200,300,400,500]\n",
    "\n",
    "force=[0.6,1.0,1.25,1.8,2.15,2.6]\n",
    "force_i = [1.0,1.65,2.45,3.2,3.8,5]\n",
    "xx =np.linspace(0,600,20)\n",
    "\n",
    "def lin_model (x, a, b):\n",
    "    return a*x + b\n",
    "\n",
    "a,b= curve_fit(lin_model,grams,force)[0]\n",
    "c,d= curve_fit(lin_model,grams,force_i)[0]\n",
    "print (a,b) \n",
    "\n",
    "plt.ylabel ('Force(N)')\n",
    "plt.xlabel ('Grams')\n",
    "plt.plot (grams, force, 'o')\n",
    "plt.plot (grams, force_i, 'o')\n",
    "plt.plot (xx,lin_model(xx,a,b))\n",
    "plt.plot (xx,lin_model(xx,c,d))\n",
    "plt.title ('Modeling Static Friction on a Flat Surface')\n",
    "plt.ylim(0, 6)\n"
   ]
  },
  {
   "cell_type": "markdown",
   "metadata": {},
   "source": [
    "## Results\n",
    "Our data is shown to be a linear model for both graphs, which means that the more weight added, the more force is required in order to move the box.\n",
    "$$y=ax+b$$\n",
    "Our results also show that both graphs do not start at (0,0), which means that the box has uncalculated weight. In addition, it is clear that the model with a ramp requires more force than the model with a flat surface."
   ]
  },
  {
   "cell_type": "markdown",
   "metadata": {},
   "source": [
    "## Conclusion"
   ]
  },
  {
   "cell_type": "markdown",
   "metadata": {},
   "source": [
    "We can conclude that the mass of an object affects the friction. When more weight is added to the box, more friciton is applied. Because of this, more force must  be used to pull the box. Comparing the two graphs, the model with a ramp is shown to have more friction than that with a flat surface. Having a slope requires more force top pull the object up, because the gravitational force tries to restrict the object from going upwards. This is the reaosn why the model with a ramp's force st arts at 1, whereas the model with a flat surface's force starts at 0.6."
   ]
  }
 ],
 "metadata": {
  "kernelspec": {
   "display_name": "Python 3",
   "language": "python",
   "name": "python3"
  },
  "language_info": {
   "codemirror_mode": {
    "name": "ipython",
    "version": 3
   },
   "file_extension": ".py",
   "mimetype": "text/x-python",
   "name": "python",
   "nbconvert_exporter": "python",
   "pygments_lexer": "ipython3",
   "version": "3.4.4"
  }
 },
 "nbformat": 4,
 "nbformat_minor": 0
}
